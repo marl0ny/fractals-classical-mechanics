{
 "cells": [
  {
   "attachments": {},
   "cell_type": "markdown",
   "metadata": {},
   "source": [
    "# Some Brief Calculations on Obtaining the Hamiltonian Equations of Motion for the Double Pendulum\n",
    "\n",
    "What we want to obtain are the Hamiltonian equations of motion\n",
    "\n",
    "$$ \\dot{q_i} = \\frac{\\partial H}{\\partial p_i},$$\n",
    "$$ \\dot{p_i} = -\\frac{\\partial H}{\\partial q_i}$$\n",
    "\n",
    "for the double pendulum system, where $H$ is the Hamiltonian, $q_i$ are the positions, and $p_i$ are its conjugate momenta.\n",
    "Out starting point will be its Lagrangian. This is already derived in many places elsewhere, but I'll get it from page 11 of [Landau and Lifshitz Mechanics textbook](https://search.worldcat.org/title/2591126)[1]:\n",
    "\n",
    "$$ L = \\frac{1}{2} (m_1 + m_2) l_1^2 \\dot{\\phi_1}^2 + \\frac{1}{2}m_2l_2^2 \\dot{\\phi_2}^2 + m_2 l_1 l_2 \\dot{\\phi_1}\\dot{\\phi_2}cos(\\phi_1 - \\phi_2) + (m_1 + m_2)g l_1 cos(\\phi_1) + m_2 g l_2 cos(\\phi_2).$$\n",
    "\n",
    "Here $L$ is the Lagrangian, $l_1$ and $l_2$ are the lengths of each pendulum, $\\phi_1$ and $\\phi_2$ are their angular positions, $m_1$ and $m_2$ are their masses, and $g$ is the gravitational constant. $H$ will depend on the angular positions $\\phi_1$ and $\\phi_2$, everything else is constant. Next we will need the conjugate momenta counterparts to $\\phi_1$ and $\\phi_2$. The formulas for the conjugate momenta, which we will denote as $\\pi_1$ and $\\pi_2$, are\n",
    "\n",
    "$$ \\pi_1 = \\frac{\\partial L}{\\partial \\dot{\\phi_1}} = (m_1 + m_2) l_1 \\dot{\\phi_1} + m_2 l_1 l_2 cos(\\phi_1 - \\phi_2) \\dot{\\phi_2},$$\n",
    "\n",
    "$$ \\pi_2 = \\frac{\\partial L}{\\partial \\dot{\\phi_2}} = m_2 l_1 l_2 cos(\\phi_1 - \\phi_2) \\dot{\\phi_1} + m_2 l_2 \\dot{\\phi_2}.$$\n",
    "\n",
    "To proceed further we will need to express $\\dot{\\phi_1}$ and $\\dot{\\phi_2}$ in terms of $\\pi_1$ and $\\pi_2$. This and all subsequent symbolic computations will be done using [Sympy](https://www.sympy.org/en/index.html):"
   ]
  },
  {
   "cell_type": "code",
   "execution_count": null,
   "metadata": {
    "vscode": {
     "languageId": "plaintext"
    }
   },
   "outputs": [
    {
     "name": "stdout",
     "output_type": "stream",
     "text": [
      "\\frac{l_{1} \\pi_{2} \\cos{\\left(\\phi_{1} - \\phi_{2} \\right)} - \\pi_{1}}{l_{1} \\left(l_{1} l_{2} m_{2} \\cos^{2}{\\left(\\phi_{1} - \\phi_{2} \\right)} - m_{1} - m_{2}\\right)}\n",
      "\\frac{l_{2} m_{2} \\pi_{1} \\cos{\\left(\\phi_{1} - \\phi_{2} \\right)} - \\pi_{2} \\left(m_{1} + m_{2}\\right)}{l_{2} m_{2} \\left(l_{1} l_{2} m_{2} \\cos^{2}{\\left(\\phi_{1} - \\phi_{2} \\right)} - m_{1} - m_{2}\\right)}\n"
     ]
    }
   ],
   "source": [
    "from sympy import Symbol\n",
    "from sympy.functions import cos\n",
    "from sympy import diff\n",
    "from sympy import latex\n",
    "\n",
    "length1, length2, mass1, mass2 \\\n",
    "    = Symbol('l_1'), Symbol('l_2'), Symbol('m_1'), Symbol('m_2')\n",
    "gravity = Symbol('g')\n",
    "\n",
    "phi1, phi2, pi1, pi2 \\\n",
    "    = Symbol('phi_1'), Symbol('phi_2'), Symbol('pi_1'), Symbol('pi_2')\n",
    "\n",
    "def lagrangian(pi1, pi2, phi1, phi2):\n",
    "    coords = pi1, pi2, phi1, phi2\n",
    "    return (\n",
    "        (1/2)*(mass1 + mass2)*(length1*dot_phi1(*coords))**2\n",
    "        + (1/2)*mass2*length2**2*dot_phi2(*coords)**2\n",
    "        + mass2*length1*length2\n",
    "            *dot_phi1(*coords)*dot_phi2(*coords)*cos(phi1 - phi2)\n",
    "        + (mass1 + mass2)*gravity*length1*cos(phi1)\n",
    "        + mass2*gravity*length2*cos(phi2))\n",
    "\n",
    "def dot_phi(i, pi1, pi2, phi1, phi2):\n",
    "    m11 = (mass1 + mass2)*length1\n",
    "    m12 = mass2*length1*length2*cos(phi1 - phi2)\n",
    "    m21 = mass2*length1*length2*cos(phi1 - phi2)\n",
    "    m22 = mass2*length2\n",
    "    if i == 1:\n",
    "        return -m22*pi1/(m12*m21 - m22*m11) + m12*pi2/(m12*m21 - m22*m11)\n",
    "    elif i == 2:\n",
    "        return m21*pi1/(m12*m21 - m22*m11) - m11*pi2/(m12*m21 - m22*m11)\n",
    "\n",
    "def dot_phi1(pi1, pi2, phi1, phi2):\n",
    "    return dot_phi(1, pi1, pi2, phi1, phi2).simplify()\n",
    "\n",
    "\n",
    "def dot_phi2(pi1, pi2, phi1, phi2):\n",
    "    return dot_phi(2, pi1, pi2, phi1, phi2).simplify()\n",
    "\n",
    "print(latex(dot_phi1(pi1, pi2, phi1, phi2)))\n",
    "print(latex(dot_phi2(pi1, pi2, phi1, phi2)))"
   ]
  },
  {
   "cell_type": "markdown",
   "metadata": {},
   "source": [
    "The above code output gives us that\n",
    "\n",
    "$$ \\dot{\\phi_1} = \\frac{l_{1} \\pi_{2} \\cos{\\left(\\phi_{1} - \\phi_{2} \\right)} - \\pi_{1}}{l_{1} \\left(l_{1} l_{2} m_{2} \\cos^{2}{\\left(\\phi_{1} - \\phi_{2} \\right)} - m_{1} - m_{2}\\right)},$$\n",
    "\n",
    "$$ \\dot{\\phi_2} = \\frac{l_{2} m_{2} \\pi_{1} \\cos{\\left(\\phi_{1} - \\phi_{2} \\right)} - \\pi_{2} \\left(m_{1} + m_{2}\\right)}{l_{2} m_{2} \\left(l_{1} l_{2} m_{2} \\cos^{2}{\\left(\\phi_{1} - \\phi_{2} \\right)} - m_{1} - m_{2}\\right)}.$$\n",
    "\n",
    "From this we can now construct the Hamiltonian $H = \\dot{\\phi_1} \\pi_1 + \\dot{\\phi_2} \\pi_2 - L$ in terms of only the angular positions and conjugate momenta:"
   ]
  },
  {
   "cell_type": "code",
   "execution_count": null,
   "metadata": {},
   "outputs": [
    {
     "name": "stdout",
     "output_type": "stream",
     "text": [
      "- \\frac{g l_{1} l_{2} m_{2} \\left(l_{1} \\left(m_{1} + m_{2}\\right) \\cos{\\left(\\phi_{1} \\right)} + l_{2} m_{2} \\cos{\\left(\\phi_{2} \\right)}\\right) \\left(- l_{1} l_{2} m_{2} \\cos^{2}{\\left(\\phi_{1} - \\phi_{2} \\right)} + m_{1} + m_{2}\\right)^{2} + l_{1} l_{2} m_{2} \\left(0.5 \\left(m_{1} + m_{2}\\right) \\left(l_{1} \\pi_{2} \\cos{\\left(\\phi_{1} - \\phi_{2} \\right)} - \\pi_{1}\\right) + \\left(l_{2} m_{2} \\pi_{1} \\cos{\\left(\\phi_{1} - \\phi_{2} \\right)} - \\pi_{2} \\left(m_{1} + m_{2}\\right)\\right) \\cos{\\left(\\phi_{1} - \\phi_{2} \\right)}\\right) \\left(l_{1} \\pi_{2} \\cos{\\left(\\phi_{1} - \\phi_{2} \\right)} - \\pi_{1}\\right) + 0.5 l_{1} l_{2} \\left(l_{2} m_{2} \\pi_{1} \\cos{\\left(\\phi_{1} - \\phi_{2} \\right)} - \\pi_{2} \\left(m_{1} + m_{2}\\right)\\right)^{2} + l_{1} \\pi_{2} \\left(l_{2} m_{2} \\pi_{1} \\cos{\\left(\\phi_{1} - \\phi_{2} \\right)} - \\pi_{2} \\left(m_{1} + m_{2}\\right)\\right) \\left(- l_{1} l_{2} m_{2} \\cos^{2}{\\left(\\phi_{1} - \\phi_{2} \\right)} + m_{1} + m_{2}\\right) + l_{2} m_{2} \\pi_{1} \\left(l_{1} \\pi_{2} \\cos{\\left(\\phi_{1} - \\phi_{2} \\right)} - \\pi_{1}\\right) \\left(- l_{1} l_{2} m_{2} \\cos^{2}{\\left(\\phi_{1} - \\phi_{2} \\right)} + m_{1} + m_{2}\\right)}{l_{1} l_{2} m_{2} \\left(- l_{1} l_{2} m_{2} \\cos^{2}{\\left(\\phi_{1} - \\phi_{2} \\right)} + m_{1} + m_{2}\\right)^{2}}\n"
     ]
    }
   ],
   "source": [
    "def hamiltonian(pi1, pi2, phi1, phi2):\n",
    "    coords = pi1, pi2, phi1, phi2\n",
    "    return dot_phi1(*coords)*pi1 + dot_phi2(*coords)*pi2 - lagrangian(*coords)\n",
    "\n",
    "print(latex(hamiltonian(pi1, pi2, phi1, phi2).simplify()))"
   ]
  },
  {
   "attachments": {},
   "cell_type": "markdown",
   "metadata": {},
   "source": [
    "Using the above raw $\\LaTeX$ output, the Hamiltonian in terms of the angular positions and their conjugate momenta is:\n",
    "\n",
    "$$ H = - \\frac{g l_{1} l_{2} m_{2} \\left(l_{1} \\left(m_{1} + m_{2}\\right) \\cos{\\left(\\phi_{1} \\right)} + l_{2} m_{2} \\cos{\\left(\\phi_{2} \\right)}\\right) \\left(- l_{1} l_{2} m_{2} \\cos^{2}{\\left(\\phi_{1} - \\phi_{2} \\right)} + m_{1} + m_{2}\\right)^{2} + l_{1} l_{2} m_{2} \\left(0.5 \\left(m_{1} + m_{2}\\right) \\left(l_{1} \\pi_{2} \\cos{\\left(\\phi_{1} - \\phi_{2} \\right)} - \\pi_{1}\\right) + \\left(l_{2} m_{2} \\pi_{1} \\cos{\\left(\\phi_{1} - \\phi_{2} \\right)} - \\pi_{2} \\left(m_{1} + m_{2}\\right)\\right) \\cos{\\left(\\phi_{1} - \\phi_{2} \\right)}\\right) \\left(l_{1} \\pi_{2} \\cos{\\left(\\phi_{1} - \\phi_{2} \\right)} - \\pi_{1}\\right) + 0.5 l_{1} l_{2} \\left(l_{2} m_{2} \\pi_{1} \\cos{\\left(\\phi_{1} - \\phi_{2} \\right)} - \\pi_{2} \\left(m_{1} + m_{2}\\right)\\right)^{2} + l_{1} \\pi_{2} \\left(l_{2} m_{2} \\pi_{1} \\cos{\\left(\\phi_{1} - \\phi_{2} \\right)} - \\pi_{2} \\left(m_{1} + m_{2}\\right)\\right) \\left(- l_{1} l_{2} m_{2} \\cos^{2}{\\left(\\phi_{1} - \\phi_{2} \\right)} + m_{1} + m_{2}\\right) + l_{2} m_{2} \\pi_{1} \\left(l_{1} \\pi_{2} \\cos{\\left(\\phi_{1} - \\phi_{2} \\right)} - \\pi_{1}\\right) \\left(- l_{1} l_{2} m_{2} \\cos^{2}{\\left(\\phi_{1} - \\phi_{2} \\right)} + m_{1} + m_{2}\\right)}{l_{1} l_{2} m_{2} \\left(- l_{1} l_{2} m_{2} \\cos^{2}{\\left(\\phi_{1} - \\phi_{2} \\right)} + m_{1} + m_{2}\\right)^{2}}.$$"
   ]
  },
  {
   "cell_type": "markdown",
   "metadata": {},
   "source": [
    "Now we can compute $\\dot{\\pi_1} = -\\frac{\\partial H}{\\partial \\phi_1}$ and $\\dot{\\pi_2} = -\\frac{\\partial H}{\\partial \\phi_2}$."
   ]
  },
  {
   "cell_type": "code",
   "execution_count": null,
   "metadata": {},
   "outputs": [
    {
     "name": "stdout",
     "output_type": "stream",
     "text": [
      "\\dot{\\pi_1} =  - \\frac{g l_{1} \\left(m_{1} + m_{2}\\right) \\left(- l_{1} l_{2} m_{2} \\cos^{2}{\\left(\\phi_{1} - \\phi_{2} \\right)} + m_{1} + m_{2}\\right)^{3} \\sin{\\left(\\phi_{1} \\right)} + l_{1} l_{2} \\left(2.0 m_{2} \\left(m_{1} + m_{2}\\right) \\left(l_{1} \\pi_{2} \\cos{\\left(\\phi_{1} - \\phi_{2} \\right)} - \\pi_{1}\\right)^{2} + 4 m_{2} \\left(l_{1} \\pi_{2} \\cos{\\left(\\phi_{1} - \\phi_{2} \\right)} - \\pi_{1}\\right) \\left(l_{2} m_{2} \\pi_{1} \\cos{\\left(\\phi_{1} - \\phi_{2} \\right)} - \\pi_{2} \\left(m_{1} + m_{2}\\right)\\right) \\cos{\\left(\\phi_{1} - \\phi_{2} \\right)} + 2.0 \\left(l_{2} m_{2} \\pi_{1} \\cos{\\left(\\phi_{1} - \\phi_{2} \\right)} - \\pi_{2} \\left(m_{1} + m_{2}\\right)\\right)^{2}\\right) \\sin{\\left(\\phi_{1} - \\phi_{2} \\right)} \\cos{\\left(\\phi_{1} - \\phi_{2} \\right)} + 2 \\pi_{1} \\pi_{2} \\left(- l_{1} l_{2} m_{2} \\cos^{2}{\\left(\\phi_{1} - \\phi_{2} \\right)} + m_{1} + m_{2}\\right)^{2} \\sin{\\left(\\phi_{1} - \\phi_{2} \\right)} + \\left(- l_{1} l_{2} m_{2} \\cos^{2}{\\left(\\phi_{1} - \\phi_{2} \\right)} + m_{1} + m_{2}\\right) \\left(1.0 l_{1} \\pi_{2} \\left(m_{1} + m_{2}\\right) \\left(l_{1} \\pi_{2} \\cos{\\left(\\phi_{1} - \\phi_{2} \\right)} - \\pi_{1}\\right) + 3 l_{1} \\pi_{2} \\left(l_{2} m_{2} \\pi_{1} \\cos{\\left(\\phi_{1} - \\phi_{2} \\right)} - \\pi_{2} \\left(m_{1} + m_{2}\\right)\\right) \\cos{\\left(\\phi_{1} - \\phi_{2} \\right)} + 3 l_{2} m_{2} \\pi_{1} \\left(l_{1} \\pi_{2} \\cos{\\left(\\phi_{1} - \\phi_{2} \\right)} - \\pi_{1}\\right) \\cos{\\left(\\phi_{1} - \\phi_{2} \\right)} + 1.0 l_{2} \\pi_{1} \\left(l_{2} m_{2} \\pi_{1} \\cos{\\left(\\phi_{1} - \\phi_{2} \\right)} - \\pi_{2} \\left(m_{1} + m_{2}\\right)\\right) + \\left(l_{1} \\pi_{2} \\cos{\\left(\\phi_{1} - \\phi_{2} \\right)} - \\pi_{1}\\right) \\left(l_{2} m_{2} \\pi_{1} \\cos{\\left(\\phi_{1} - \\phi_{2} \\right)} - \\pi_{2} \\left(m_{1} + m_{2}\\right)\\right)\\right) \\sin{\\left(\\phi_{1} - \\phi_{2} \\right)}}{\\left(- l_{1} l_{2} m_{2} \\cos^{2}{\\left(\\phi_{1} - \\phi_{2} \\right)} + m_{1} + m_{2}\\right)^{3}}\n",
      "\\dot{\\pi_2} =  - \\frac{g l_{2} m_{2} \\left(- l_{1} l_{2} m_{2} \\cos^{2}{\\left(\\phi_{1} - \\phi_{2} \\right)} + m_{1} + m_{2}\\right)^{3} \\sin{\\left(\\phi_{2} \\right)} - l_{1} l_{2} \\left(2.0 m_{2} \\left(m_{1} + m_{2}\\right) \\left(l_{1} \\pi_{2} \\cos{\\left(\\phi_{1} - \\phi_{2} \\right)} - \\pi_{1}\\right)^{2} + 4 m_{2} \\left(l_{1} \\pi_{2} \\cos{\\left(\\phi_{1} - \\phi_{2} \\right)} - \\pi_{1}\\right) \\left(l_{2} m_{2} \\pi_{1} \\cos{\\left(\\phi_{1} - \\phi_{2} \\right)} - \\pi_{2} \\left(m_{1} + m_{2}\\right)\\right) \\cos{\\left(\\phi_{1} - \\phi_{2} \\right)} + 2.0 \\left(l_{2} m_{2} \\pi_{1} \\cos{\\left(\\phi_{1} - \\phi_{2} \\right)} - \\pi_{2} \\left(m_{1} + m_{2}\\right)\\right)^{2}\\right) \\sin{\\left(\\phi_{1} - \\phi_{2} \\right)} \\cos{\\left(\\phi_{1} - \\phi_{2} \\right)} - 2 \\pi_{1} \\pi_{2} \\left(- l_{1} l_{2} m_{2} \\cos^{2}{\\left(\\phi_{1} - \\phi_{2} \\right)} + m_{1} + m_{2}\\right)^{2} \\sin{\\left(\\phi_{1} - \\phi_{2} \\right)} - \\left(- l_{1} l_{2} m_{2} \\cos^{2}{\\left(\\phi_{1} - \\phi_{2} \\right)} + m_{1} + m_{2}\\right) \\left(1.0 l_{1} \\pi_{2} \\left(m_{1} + m_{2}\\right) \\left(l_{1} \\pi_{2} \\cos{\\left(\\phi_{1} - \\phi_{2} \\right)} - \\pi_{1}\\right) + 3 l_{1} \\pi_{2} \\left(l_{2} m_{2} \\pi_{1} \\cos{\\left(\\phi_{1} - \\phi_{2} \\right)} - \\pi_{2} \\left(m_{1} + m_{2}\\right)\\right) \\cos{\\left(\\phi_{1} - \\phi_{2} \\right)} + 3 l_{2} m_{2} \\pi_{1} \\left(l_{1} \\pi_{2} \\cos{\\left(\\phi_{1} - \\phi_{2} \\right)} - \\pi_{1}\\right) \\cos{\\left(\\phi_{1} - \\phi_{2} \\right)} + 1.0 l_{2} \\pi_{1} \\left(l_{2} m_{2} \\pi_{1} \\cos{\\left(\\phi_{1} - \\phi_{2} \\right)} - \\pi_{2} \\left(m_{1} + m_{2}\\right)\\right) + \\left(l_{1} \\pi_{2} \\cos{\\left(\\phi_{1} - \\phi_{2} \\right)} - \\pi_{1}\\right) \\left(l_{2} m_{2} \\pi_{1} \\cos{\\left(\\phi_{1} - \\phi_{2} \\right)} - \\pi_{2} \\left(m_{1} + m_{2}\\right)\\right)\\right) \\sin{\\left(\\phi_{1} - \\phi_{2} \\right)}}{\\left(- l_{1} l_{2} m_{2} \\cos^{2}{\\left(\\phi_{1} - \\phi_{2} \\right)} + m_{1} + m_{2}\\right)^{3}}\n"
     ]
    }
   ],
   "source": [
    "print(\"\\\\dot{\\pi_1} = \", latex(-diff(hamiltonian(pi1, pi2, phi1, phi2), phi1).simplify()))\n",
    "print(\"\\\\dot{\\pi_2} = \", latex(-diff(hamiltonian(pi1, pi2, phi1, phi2), phi2).simplify()))"
   ]
  },
  {
   "cell_type": "markdown",
   "metadata": {},
   "source": [
    "The above gives us that:\n",
    "\n",
    "$$\\dot{\\pi_1} =  - \\frac{g l_{1} \\left(m_{1} + m_{2}\\right) \\left(- l_{1} l_{2} m_{2} \\cos^{2}{\\left(\\phi_{1} - \\phi_{2} \\right)} + m_{1} + m_{2}\\right)^{3} \\sin{\\left(\\phi_{1} \\right)} + l_{1} l_{2} \\left(2.0 m_{2} \\left(m_{1} + m_{2}\\right) \\left(l_{1} \\pi_{2} \\cos{\\left(\\phi_{1} - \\phi_{2} \\right)} - \\pi_{1}\\right)^{2} + 4 m_{2} \\left(l_{1} \\pi_{2} \\cos{\\left(\\phi_{1} - \\phi_{2} \\right)} - \\pi_{1}\\right) \\left(l_{2} m_{2} \\pi_{1} \\cos{\\left(\\phi_{1} - \\phi_{2} \\right)} - \\pi_{2} \\left(m_{1} + m_{2}\\right)\\right) \\cos{\\left(\\phi_{1} - \\phi_{2} \\right)} + 2.0 \\left(l_{2} m_{2} \\pi_{1} \\cos{\\left(\\phi_{1} - \\phi_{2} \\right)} - \\pi_{2} \\left(m_{1} + m_{2}\\right)\\right)^{2}\\right) \\sin{\\left(\\phi_{1} - \\phi_{2} \\right)} \\cos{\\left(\\phi_{1} - \\phi_{2} \\right)} + 2 \\pi_{1} \\pi_{2} \\left(- l_{1} l_{2} m_{2} \\cos^{2}{\\left(\\phi_{1} - \\phi_{2} \\right)} + m_{1} + m_{2}\\right)^{2} \\sin{\\left(\\phi_{1} - \\phi_{2} \\right)} + \\left(- l_{1} l_{2} m_{2} \\cos^{2}{\\left(\\phi_{1} - \\phi_{2} \\right)} + m_{1} + m_{2}\\right) \\left(1.0 l_{1} \\pi_{2} \\left(m_{1} + m_{2}\\right) \\left(l_{1} \\pi_{2} \\cos{\\left(\\phi_{1} - \\phi_{2} \\right)} - \\pi_{1}\\right) + 3 l_{1} \\pi_{2} \\left(l_{2} m_{2} \\pi_{1} \\cos{\\left(\\phi_{1} - \\phi_{2} \\right)} - \\pi_{2} \\left(m_{1} + m_{2}\\right)\\right) \\cos{\\left(\\phi_{1} - \\phi_{2} \\right)} + 3 l_{2} m_{2} \\pi_{1} \\left(l_{1} \\pi_{2} \\cos{\\left(\\phi_{1} - \\phi_{2} \\right)} - \\pi_{1}\\right) \\cos{\\left(\\phi_{1} - \\phi_{2} \\right)} + 1.0 l_{2} \\pi_{1} \\left(l_{2} m_{2} \\pi_{1} \\cos{\\left(\\phi_{1} - \\phi_{2} \\right)} - \\pi_{2} \\left(m_{1} + m_{2}\\right)\\right) + \\left(l_{1} \\pi_{2} \\cos{\\left(\\phi_{1} - \\phi_{2} \\right)} - \\pi_{1}\\right) \\left(l_{2} m_{2} \\pi_{1} \\cos{\\left(\\phi_{1} - \\phi_{2} \\right)} - \\pi_{2} \\left(m_{1} + m_{2}\\right)\\right)\\right) \\sin{\\left(\\phi_{1} - \\phi_{2} \\right)}}{\\left(- l_{1} l_{2} m_{2} \\cos^{2}{\\left(\\phi_{1} - \\phi_{2} \\right)} + m_{1} + m_{2}\\right)^{3}},$$\n",
    "\n",
    "$$\\dot{\\pi_2} =  - \\frac{g l_{2} m_{2} \\left(- l_{1} l_{2} m_{2} \\cos^{2}{\\left(\\phi_{1} - \\phi_{2} \\right)} + m_{1} + m_{2}\\right)^{3} \\sin{\\left(\\phi_{2} \\right)} - l_{1} l_{2} \\left(2.0 m_{2} \\left(m_{1} + m_{2}\\right) \\left(l_{1} \\pi_{2} \\cos{\\left(\\phi_{1} - \\phi_{2} \\right)} - \\pi_{1}\\right)^{2} + 4 m_{2} \\left(l_{1} \\pi_{2} \\cos{\\left(\\phi_{1} - \\phi_{2} \\right)} - \\pi_{1}\\right) \\left(l_{2} m_{2} \\pi_{1} \\cos{\\left(\\phi_{1} - \\phi_{2} \\right)} - \\pi_{2} \\left(m_{1} + m_{2}\\right)\\right) \\cos{\\left(\\phi_{1} - \\phi_{2} \\right)} + 2.0 \\left(l_{2} m_{2} \\pi_{1} \\cos{\\left(\\phi_{1} - \\phi_{2} \\right)} - \\pi_{2} \\left(m_{1} + m_{2}\\right)\\right)^{2}\\right) \\sin{\\left(\\phi_{1} - \\phi_{2} \\right)} \\cos{\\left(\\phi_{1} - \\phi_{2} \\right)} - 2 \\pi_{1} \\pi_{2} \\left(- l_{1} l_{2} m_{2} \\cos^{2}{\\left(\\phi_{1} - \\phi_{2} \\right)} + m_{1} + m_{2}\\right)^{2} \\sin{\\left(\\phi_{1} - \\phi_{2} \\right)} - \\left(- l_{1} l_{2} m_{2} \\cos^{2}{\\left(\\phi_{1} - \\phi_{2} \\right)} + m_{1} + m_{2}\\right) \\left(1.0 l_{1} \\pi_{2} \\left(m_{1} + m_{2}\\right) \\left(l_{1} \\pi_{2} \\cos{\\left(\\phi_{1} - \\phi_{2} \\right)} - \\pi_{1}\\right) + 3 l_{1} \\pi_{2} \\left(l_{2} m_{2} \\pi_{1} \\cos{\\left(\\phi_{1} - \\phi_{2} \\right)} - \\pi_{2} \\left(m_{1} + m_{2}\\right)\\right) \\cos{\\left(\\phi_{1} - \\phi_{2} \\right)} + 3 l_{2} m_{2} \\pi_{1} \\left(l_{1} \\pi_{2} \\cos{\\left(\\phi_{1} - \\phi_{2} \\right)} - \\pi_{1}\\right) \\cos{\\left(\\phi_{1} - \\phi_{2} \\right)} + 1.0 l_{2} \\pi_{1} \\left(l_{2} m_{2} \\pi_{1} \\cos{\\left(\\phi_{1} - \\phi_{2} \\right)} - \\pi_{2} \\left(m_{1} + m_{2}\\right)\\right) + \\left(l_{1} \\pi_{2} \\cos{\\left(\\phi_{1} - \\phi_{2} \\right)} - \\pi_{1}\\right) \\left(l_{2} m_{2} \\pi_{1} \\cos{\\left(\\phi_{1} - \\phi_{2} \\right)} - \\pi_{2} \\left(m_{1} + m_{2}\\right)\\right)\\right) \\sin{\\left(\\phi_{1} - \\phi_{2} \\right)}}{\\left(- l_{1} l_{2} m_{2} \\cos^{2}{\\left(\\phi_{1} - \\phi_{2} \\right)} + m_{1} + m_{2}\\right)^{3}}.$$\n",
    "\n",
    "With these expressions for the time derivatives of the conjugate momenta, and those of the angular positions obtained previously, we now have everthing that we intended to obtain. The above equations could probably be further simplified and written more cleanly, but this will do for now.\n",
    "\n",
    "### References:\n",
    "\n",
    "##\n",
    "1. Lagrangian mechanics are introduced in the first chapter of this book. Hamiltonian mechanics is dealt with in chapter 7. <br><br>&nbsp;&nbsp; Landau, Lifshitz. Mechanics, Course of Theoretical Physics Volume 1 (3rd edition). Translated by Skykes, Bell. Pergamon Press (1976).\n",
    "                                                                                                                                                                                                                                                                                                                                                                                                                                                                                                                                                                                                                                                                                                                                                                                                                                                                                                                                                                                                                                                                                                                                                                                                                                                                                                                                                                                                                                                                                                                                                                                                                                                                                                                                                                                                                                                                  \n",
    "                                                                                                                                                                                                                                                                                                                                                                                                                                                                                                                                                                                                                                                                                                                                                                                                                                                                                                                                                                                                                                                                                                                                                                                                                                                                                                                                                                                                                                                                                                                                                                                                                                                                                                                                                                                                                                                                  "
   ]
  }
 ],
 "metadata": {
  "kernelspec": {
   "display_name": "Python 3 (ipykernel)",
   "language": "python",
   "name": "python3"
  },
  "language_info": {
   "codemirror_mode": {
    "name": "ipython",
    "version": 3
   },
   "file_extension": ".py",
   "mimetype": "text/x-python",
   "name": "python",
   "nbconvert_exporter": "python",
   "pygments_lexer": "ipython3",
   "version": "3.8.12"
  }
 },
 "nbformat": 4,
 "nbformat_minor": 4
}
